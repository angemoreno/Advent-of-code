{
  "cells": [
    {
      "cell_type": "code",
      "source": [
        "with open('/content/puzzle_input.txt', 'r') as f:\n",
        "  values = f.read().strip().split('\\n')\n",
        "\n",
        "sum = 0\n",
        "for line, game in enumerate(values):\n",
        "    game = game.split(':')[1].split(';')\n",
        "    possible = True\n",
        "\n",
        "    for part in game:\n",
        "        part = part.strip().split(',')\n",
        "\n",
        "        for cube in part:\n",
        "            cube = cube.strip().split(' ')\n",
        "\n",
        "            if ((cube[1] == 'red' and int(cube[0]) > 12) or\n",
        "                (cube[1] == 'green' and int(cube[0]) > 13) or\n",
        "                (cube[1] == 'blue' and int(cube[0]) > 14)):\n",
        "                possible = False\n",
        "    if possible:\n",
        "        sum += (line+1)\n",
        "print(sum)"
      ],
      "metadata": {
        "id": "fqFK9uJdGaa7",
        "outputId": "86977f45-f574-4621-e93a-b50c051c5b8a",
        "colab": {
          "base_uri": "https://localhost:8080/"
        }
      },
      "execution_count": 5,
      "outputs": [
        {
          "output_type": "stream",
          "name": "stdout",
          "text": [
            "1853\n"
          ]
        }
      ]
    }
  ],
  "metadata": {
    "colab": {
      "provenance": [],
      "authorship_tag": "ABX9TyNdzifrNbRyujpW8aLIRcjO"
    },
    "kernelspec": {
      "display_name": "Python 3",
      "name": "python3"
    },
    "language_info": {
      "name": "python"
    }
  },
  "nbformat": 4,
  "nbformat_minor": 0
}