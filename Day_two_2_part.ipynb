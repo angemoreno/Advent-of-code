{
  "cells": [
    {
      "cell_type": "markdown",
      "metadata": {
        "id": "view-in-github",
        "colab_type": "text"
      },
      "source": [
        "<a href=\"https://colab.research.google.com/github/angemoreno/Advent-of-code/blob/main/Day_two_2_part.ipynb\" target=\"_parent\"><img src=\"https://colab.research.google.com/assets/colab-badge.svg\" alt=\"Open In Colab\"/></a>"
      ]
    },
    {
      "cell_type": "code",
      "source": [
        "with open('/content/puzzle_input.txt', 'r') as f:\n",
        "  values = f.read().strip().split('\\n')\n",
        "\n",
        "\n",
        "sum = 0\n",
        "for line, game in enumerate(values):\n",
        "    game = game.split(':')[1].split(';')\n",
        "    possible = True\n",
        "\n",
        "    mins = {\"red\": 0, \"blue\": 0, \"green\": 0}\n",
        "\n",
        "    for part in game:\n",
        "        part = part.strip().split(',')\n",
        "\n",
        "        for cube in part:\n",
        "            #cube = cube.strip().split(' ')\n",
        "            [num, color] = cube.strip().split(' ')\n",
        "            num = int(num)\n",
        "\n",
        "            mins[color] = max(mins[color], num)\n",
        "\n",
        "    power = mins[\"red\"] * mins[\"blue\"] * mins[\"green\"]\n",
        "\n",
        "    sum += power\n",
        "\n",
        "print(sum)"
      ],
      "metadata": {
        "colab": {
          "base_uri": "https://localhost:8080/"
        },
        "id": "jKfgHEzYhKc-",
        "outputId": "19fda9da-a4bf-4322-a67c-4b39ea3f01e7"
      },
      "execution_count": 8,
      "outputs": [
        {
          "output_type": "stream",
          "name": "stdout",
          "text": [
            "72706\n"
          ]
        }
      ]
    }
  ],
  "metadata": {
    "colab": {
      "provenance": [],
      "authorship_tag": "ABX9TyP1dyk6v0609TtM1ZmE+XXz",
      "include_colab_link": true
    },
    "kernelspec": {
      "display_name": "Python 3",
      "name": "python3"
    },
    "language_info": {
      "name": "python"
    }
  },
  "nbformat": 4,
  "nbformat_minor": 0
}